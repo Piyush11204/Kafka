{
 "cells": [
  {
   "cell_type": "code",
   "execution_count": 2,
   "id": "aaf91a27-3d38-4067-a453-d49e82aac261",
   "metadata": {},
   "outputs": [],
   "source": [
    "# import the pandas library\n",
    "import pandas as pd\n",
    "import numpy as np"
   ]
  },
  {
   "cell_type": "code",
   "execution_count": 3,
   "id": "3a848d7a-3d21-432b-8000-61bca9c68b92",
   "metadata": {},
   "outputs": [],
   "source": [
    "# read csv\n",
    "df = pd.read_csv(r\"C:\\Users\\student\\Downloads\\Churn_Modelling.csv\")"
   ]
  },
  {
   "cell_type": "code",
   "execution_count": 4,
   "id": "d34f0267-15cb-47f6-8412-5866637c179d",
   "metadata": {},
   "outputs": [
    {
     "name": "stdout",
     "output_type": "stream",
     "text": [
      "(10002, 14)\n"
     ]
    }
   ],
   "source": [
    "print(df.shape)"
   ]
  },
  {
   "cell_type": "code",
   "execution_count": 5,
   "id": "ec72c463-1ba6-4ad0-bd3d-014a25349cab",
   "metadata": {},
   "outputs": [
    {
     "name": "stdout",
     "output_type": "stream",
     "text": [
      "['RowNumber', 'CustomerId', 'Surname', 'CreditScore', 'Geography', 'Gender', 'Age', 'Tenure', 'Balance', 'NumOfProducts', 'HasCrCard', 'IsActiveMember', 'EstimatedSalary', 'Exited']\n"
     ]
    }
   ],
   "source": [
    "columns = list(df.columns)\n",
    "print(columns)\n"
   ]
  },
  {
   "cell_type": "code",
   "execution_count": 6,
   "id": "991415f6-d598-46a8-9653-da40f0b46a0a",
   "metadata": {},
   "outputs": [
    {
     "name": "stdout",
     "output_type": "stream",
     "text": [
      "   RowNumber  CustomerId   Surname  CreditScore Geography  Gender   Age  \\\n",
      "0          1    15634602  Hargrave          619    France  Female  42.0   \n",
      "1          2    15647311      Hill          608     Spain  Female  41.0   \n",
      "2          3    15619304      Onio          502    France  Female  42.0   \n",
      "3          4    15701354      Boni          699    France  Female  39.0   \n",
      "4          5    15737888  Mitchell          850     Spain  Female  43.0   \n",
      "\n",
      "   Tenure    Balance  NumOfProducts  HasCrCard  IsActiveMember  \\\n",
      "0       2       0.00              1        1.0             1.0   \n",
      "1       1   83807.86              1        0.0             1.0   \n",
      "2       8  159660.80              3        1.0             0.0   \n",
      "3       1       0.00              2        0.0             0.0   \n",
      "4       2  125510.82              1        NaN             1.0   \n",
      "\n",
      "   EstimatedSalary  Exited  \n",
      "0        101348.88       1  \n",
      "1        112542.58       0  \n",
      "2        113931.57       1  \n",
      "3         93826.63       0  \n",
      "4         79084.10       0  \n"
     ]
    }
   ],
   "source": [
    "print(df.head()) "
   ]
  },
  {
   "cell_type": "code",
   "execution_count": 7,
   "id": "bb04ddf4-db00-45ed-8bee-047efeea7351",
   "metadata": {},
   "outputs": [
    {
     "name": "stdout",
     "output_type": "stream",
     "text": [
      "          RowNumber    CustomerId   CreditScore           Age        Tenure  \\\n",
      "count  10002.000000  1.000200e+04  10002.000000  10001.000000  10002.000000   \n",
      "mean    5001.499600  1.569093e+07    650.555089     38.922311      5.012498   \n",
      "std     2887.472338  7.193177e+04     96.661615     10.487200      2.891973   \n",
      "min        1.000000  1.556570e+07    350.000000     18.000000      0.000000   \n",
      "25%     2501.250000  1.562852e+07    584.000000     32.000000      3.000000   \n",
      "50%     5001.500000  1.569073e+07    652.000000     37.000000      5.000000   \n",
      "75%     7501.750000  1.575323e+07    718.000000     44.000000      7.000000   \n",
      "max    10000.000000  1.581569e+07    850.000000     92.000000     10.000000   \n",
      "\n",
      "             Balance  NumOfProducts     HasCrCard  IsActiveMember  \\\n",
      "count   10002.000000   10002.000000  10001.000000    10001.000000   \n",
      "mean    76491.112875       1.530194      0.705529        0.514949   \n",
      "std     62393.474144       0.581639      0.455827        0.499801   \n",
      "min         0.000000       1.000000      0.000000        0.000000   \n",
      "25%         0.000000       1.000000      0.000000        0.000000   \n",
      "50%     97198.540000       1.000000      1.000000        1.000000   \n",
      "75%    127647.840000       2.000000      1.000000        1.000000   \n",
      "max    250898.090000       4.000000      1.000000        1.000000   \n",
      "\n",
      "       EstimatedSalary        Exited  \n",
      "count     10002.000000  10002.000000  \n",
      "mean     100083.331145      0.203759  \n",
      "std       57508.117802      0.402812  \n",
      "min          11.580000      0.000000  \n",
      "25%       50983.750000      0.000000  \n",
      "50%      100185.240000      0.000000  \n",
      "75%      149383.652500      0.000000  \n",
      "max      199992.480000      1.000000  \n"
     ]
    }
   ],
   "source": [
    "print(df.describe()) \n"
   ]
  },
  {
   "cell_type": "code",
   "execution_count": 8,
   "id": "778ab792-95db-4be8-bda6-8a76759fd7d2",
   "metadata": {},
   "outputs": [
    {
     "name": "stdout",
     "output_type": "stream",
     "text": [
      "RowNumber          0\n",
      "CustomerId         0\n",
      "Surname            0\n",
      "CreditScore        0\n",
      "Geography          1\n",
      "Gender             0\n",
      "Age                1\n",
      "Tenure             0\n",
      "Balance            0\n",
      "NumOfProducts      0\n",
      "HasCrCard          1\n",
      "IsActiveMember     1\n",
      "EstimatedSalary    0\n",
      "Exited             0\n",
      "dtype: int64\n",
      "Missing values distribution: \n",
      "RowNumber          0.0000\n",
      "CustomerId         0.0000\n",
      "Surname            0.0000\n",
      "CreditScore        0.0000\n",
      "Geography          0.0001\n",
      "Gender             0.0000\n",
      "Age                0.0001\n",
      "Tenure             0.0000\n",
      "Balance            0.0000\n",
      "NumOfProducts      0.0000\n",
      "HasCrCard          0.0001\n",
      "IsActiveMember     0.0001\n",
      "EstimatedSalary    0.0000\n",
      "Exited             0.0000\n",
      "dtype: float64\n"
     ]
    }
   ],
   "source": [
    "new_df = df\n",
    "#new_df.isnull()\n",
    "#Checking for null values \n",
    "print(new_df.isnull().sum()) \n",
    "print(\"Missing values distribution: \")\n",
    "print(new_df.isnull().mean())\n"
   ]
  },
  {
   "cell_type": "code",
   "execution_count": 9,
   "id": "ee74556a-a1e7-40dc-ad50-becdd6c33124",
   "metadata": {},
   "outputs": [
    {
     "name": "stdout",
     "output_type": "stream",
     "text": [
      "True\n",
      "0        False\n",
      "1        False\n",
      "2        False\n",
      "3        False\n",
      "4        False\n",
      "         ...  \n",
      "9997     False\n",
      "9998     False\n",
      "9999      True\n",
      "10000    False\n",
      "10001     True\n",
      "Length: 10002, dtype: bool\n",
      "(10002, 14)\n"
     ]
    }
   ],
   "source": [
    "# #Checking for duplicates\n",
    "print(new_df.duplicated().any()) \n",
    "print(new_df.duplicated())\n",
    "print(new_df.shape) \n"
   ]
  },
  {
   "cell_type": "code",
   "execution_count": 10,
   "id": "95b2d37e-ed7a-450d-a80a-8a533b7f67ae",
   "metadata": {},
   "outputs": [
    {
     "name": "stdout",
     "output_type": "stream",
     "text": [
      "Column datatypes: \n",
      "RowNumber            int64\n",
      "CustomerId           int64\n",
      "Surname             object\n",
      "CreditScore          int64\n",
      "Geography           object\n",
      "Gender              object\n",
      "Age                float64\n",
      "Tenure               int64\n",
      "Balance            float64\n",
      "NumOfProducts        int64\n",
      "HasCrCard          float64\n",
      "IsActiveMember     float64\n",
      "EstimatedSalary    float64\n",
      "Exited               int64\n",
      "dtype: object\n"
     ]
    }
   ],
   "source": [
    "print(\"Column datatypes: \")\n",
    "print(new_df.dtypes)\n"
   ]
  },
  {
   "cell_type": "code",
   "execution_count": 12,
   "id": "2bbea773-c92c-4578-a940-97830a4024b4",
   "metadata": {},
   "outputs": [
    {
     "name": "stdout",
     "output_type": "stream",
     "text": [
      "   RowNumber  CustomerId   Surname  CreditScore Geography Gender   Age  \\\n",
      "0          1    15634602  Hargrave          619    France      0  42.0   \n",
      "1          2    15647311      Hill          608     Spain      0  41.0   \n",
      "2          3    15619304      Onio          502    France      0  42.0   \n",
      "3          4    15701354      Boni          699    France      0  39.0   \n",
      "4          5    15737888  Mitchell          850     Spain      0  43.0   \n",
      "\n",
      "   Tenure    Balance  NumOfProducts  HasCrCard  IsActiveMember  \\\n",
      "0       2       0.00              1        1.0             1.0   \n",
      "1       1   83807.86              1        0.0             1.0   \n",
      "2       8  159660.80              3        1.0             0.0   \n",
      "3       1       0.00              2        0.0             0.0   \n",
      "4       2  125510.82              1        NaN             1.0   \n",
      "\n",
      "   EstimatedSalary  Exited  \n",
      "0        101348.88       1  \n",
      "1        112542.58       0  \n",
      "2        113931.57       1  \n",
      "3         93826.63       0  \n",
      "4         79084.10       0  \n",
      "(10002, 14)\n"
     ]
    }
   ],
   "source": [
    "new_df[\"Gender\"].replace({\"Male\":\"1\", \"Female\":\"0\"}, inplace = True) \n",
    "print(new_df.head())\n",
    "print(new_df.shape) "
   ]
  },
  {
   "cell_type": "code",
   "execution_count": 13,
   "id": "6e39eba0-00ba-4654-8b75-16bf5f3d347d",
   "metadata": {},
   "outputs": [
    {
     "name": "stdout",
     "output_type": "stream",
     "text": [
      "['France' 'Spain' nan 'Germany']\n"
     ]
    }
   ],
   "source": [
    "print(new_df[\"Geography\"].unique()) "
   ]
  },
  {
   "cell_type": "code",
   "execution_count": 14,
   "id": "c7c654ec-643c-44d4-a064-a26f48130dc1",
   "metadata": {},
   "outputs": [
    {
     "name": "stdout",
     "output_type": "stream",
     "text": [
      "   RowNumber  CustomerId   Surname  CreditScore Geography Gender   Age  \\\n",
      "0          1    15634602  Hargrave          619         0      0  42.0   \n",
      "1          2    15647311      Hill          608         1      0  41.0   \n",
      "2          3    15619304      Onio          502         0      0  42.0   \n",
      "3          4    15701354      Boni          699         0      0  39.0   \n",
      "4          5    15737888  Mitchell          850         1      0  43.0   \n",
      "\n",
      "   Tenure    Balance  NumOfProducts  HasCrCard  IsActiveMember  \\\n",
      "0       2       0.00              1        1.0             1.0   \n",
      "1       1   83807.86              1        0.0             1.0   \n",
      "2       8  159660.80              3        1.0             0.0   \n",
      "3       1       0.00              2        0.0             0.0   \n",
      "4       2  125510.82              1        NaN             1.0   \n",
      "\n",
      "   EstimatedSalary  Exited  \n",
      "0        101348.88       1  \n",
      "1        112542.58       0  \n",
      "2        113931.57       1  \n",
      "3         93826.63       0  \n",
      "4         79084.10       0  \n"
     ]
    },
    {
     "name": "stderr",
     "output_type": "stream",
     "text": [
      "C:\\Users\\student\\AppData\\Local\\Temp\\ipykernel_2232\\3635135099.py:1: FutureWarning: A value is trying to be set on a copy of a DataFrame or Series through chained assignment using an inplace method.\n",
      "The behavior will change in pandas 3.0. This inplace method will never work because the intermediate object on which we are setting values always behaves as a copy.\n",
      "\n",
      "For example, when doing 'df[col].method(value, inplace=True)', try using 'df.method({col: value}, inplace=True)' or df[col] = df[col].method(value) instead, to perform the operation inplace on the original object.\n",
      "\n",
      "\n",
      "  new_df['Geography'].replace({'France':'0','Spain':'1','Germany':'2'}, inplace = True)\n"
     ]
    }
   ],
   "source": [
    "new_df['Geography'].replace({'France':'0','Spain':'1','Germany':'2'}, inplace = True)\n",
    "print(new_df.head())"
   ]
  },
  {
   "cell_type": "code",
   "execution_count": 15,
   "id": "aadb2a9e-1311-4ce5-8622-3b7d0a43bcf1",
   "metadata": {},
   "outputs": [
    {
     "name": "stdout",
     "output_type": "stream",
     "text": [
      "(10002, 14)\n",
      "   RowNumber  CustomerId   Surname  CreditScore Geography Gender   Age  \\\n",
      "0          1    15634602  Hargrave          619         0      0  42.0   \n",
      "1          2    15647311      Hill          608         1      0  41.0   \n",
      "2          3    15619304      Onio          502         0      0  42.0   \n",
      "3          4    15701354      Boni          699         0      0  39.0   \n",
      "4          5    15737888  Mitchell          850         1      0  43.0   \n",
      "\n",
      "   Tenure    Balance  NumOfProducts  HasCrCard  IsActiveMember  \\\n",
      "0       2       0.00              1        1.0             1.0   \n",
      "1       1   83807.86              1        0.0             1.0   \n",
      "2       8  159660.80              3        1.0             0.0   \n",
      "3       1       0.00              2        0.0             0.0   \n",
      "4       2  125510.82              1        NaN             1.0   \n",
      "\n",
      "   EstimatedSalary  Exited  \n",
      "0        101348.88       1  \n",
      "1        112542.58       0  \n",
      "2        113931.57       1  \n",
      "3         93826.63       0  \n",
      "4         79084.10       0  \n"
     ]
    }
   ],
   "source": [
    "print(new_df.shape) \n",
    "print(new_df.head())\n"
   ]
  },
  {
   "cell_type": "code",
   "execution_count": null,
   "id": "533a2033-a48e-4d29-8424-ad98a93e1dd2",
   "metadata": {},
   "outputs": [],
   "source": []
  }
 ],
 "metadata": {
  "kernelspec": {
   "display_name": "Python 3 (ipykernel)",
   "language": "python",
   "name": "python3"
  },
  "language_info": {
   "codemirror_mode": {
    "name": "ipython",
    "version": 3
   },
   "file_extension": ".py",
   "mimetype": "text/x-python",
   "name": "python",
   "nbconvert_exporter": "python",
   "pygments_lexer": "ipython3",
   "version": "3.12.8"
  }
 },
 "nbformat": 4,
 "nbformat_minor": 5
}
